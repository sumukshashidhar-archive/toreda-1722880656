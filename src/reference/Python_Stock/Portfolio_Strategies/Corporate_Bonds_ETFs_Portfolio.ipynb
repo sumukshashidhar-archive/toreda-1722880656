{
  "cells": [
    {
      "cell_type": "markdown",
      "source": [
        "# Corporate Bonds ETFs Portfolio"
      ],
      "metadata": {}
    },
    {
      "cell_type": "markdown",
      "source": [
        "http://www.buschinvestments.com/Types-of-Bonds.c71.htm"
      ],
      "metadata": {}
    },
    {
      "cell_type": "markdown",
      "source": [
        " ## Corporate Bonds  "
      ],
      "metadata": {}
    },
    {
      "cell_type": "code",
      "source": [
        "import numpy as np\n",
        "import pandas as pd\n",
        "import matplotlib.pyplot as plt\n",
        "import seaborn as sns\n",
        "import math\n",
        "\n",
        "import warnings\n",
        "warnings.filterwarnings(\"ignore\")\n",
        "\n",
        "# fix_yahoo_finance is used to fetch data \n",
        "import fix_yahoo_finance as yf\n",
        "yf.pdr_override()"
      ],
      "outputs": [],
      "execution_count": 1,
      "metadata": {
        "collapsed": false,
        "outputHidden": false,
        "inputHidden": false
      }
    },
    {
      "cell_type": "code",
      "source": [
        "# input\n",
        "symbols = ['LQD','VCIT','VCSH','FLOT', 'IGIB']\n",
        "start = '2012-01-01'\n",
        "end = '2019-01-01'\n",
        "\n",
        "# Read data \n",
        "df = yf.download(symbols,start,end)['Adj Close']\n",
        "\n",
        "# View Columns\n",
        "df.head()"
      ],
      "outputs": [
        {
          "output_type": "stream",
          "name": "stdout",
          "text": [
            "[*********************100%***********************]  5 of 5 downloaded\n"
          ]
        },
        {
          "output_type": "execute_result",
          "execution_count": 2,
          "data": {
            "text/plain": [
              "                 FLOT       IGIB        LQD       VCIT       VCSH\n",
              "Date                                                             \n",
              "2012-01-03  44.565479  43.093731  86.727966  62.873325  65.204559\n",
              "2012-01-04  44.538204  43.025436  86.796677  62.712952  65.179413\n",
              "2012-01-05  44.665421  42.969200  86.422798  62.659473  65.271637\n",
              "2012-01-06  44.565479  43.045528  86.758545  62.827484  65.338737\n",
              "2012-01-09  44.420101  42.997299  86.628792  62.934376  65.372261"
            ],
            "text/html": [
              "<div>\n",
              "<style scoped>\n",
              "    .dataframe tbody tr th:only-of-type {\n",
              "        vertical-align: middle;\n",
              "    }\n",
              "\n",
              "    .dataframe tbody tr th {\n",
              "        vertical-align: top;\n",
              "    }\n",
              "\n",
              "    .dataframe thead th {\n",
              "        text-align: right;\n",
              "    }\n",
              "</style>\n",
              "<table border=\"1\" class=\"dataframe\">\n",
              "  <thead>\n",
              "    <tr style=\"text-align: right;\">\n",
              "      <th></th>\n",
              "      <th>FLOT</th>\n",
              "      <th>IGIB</th>\n",
              "      <th>LQD</th>\n",
              "      <th>VCIT</th>\n",
              "      <th>VCSH</th>\n",
              "    </tr>\n",
              "    <tr>\n",
              "      <th>Date</th>\n",
              "      <th></th>\n",
              "      <th></th>\n",
              "      <th></th>\n",
              "      <th></th>\n",
              "      <th></th>\n",
              "    </tr>\n",
              "  </thead>\n",
              "  <tbody>\n",
              "    <tr>\n",
              "      <th>2012-01-03</th>\n",
              "      <td>44.565479</td>\n",
              "      <td>43.093731</td>\n",
              "      <td>86.727966</td>\n",
              "      <td>62.873325</td>\n",
              "      <td>65.204559</td>\n",
              "    </tr>\n",
              "    <tr>\n",
              "      <th>2012-01-04</th>\n",
              "      <td>44.538204</td>\n",
              "      <td>43.025436</td>\n",
              "      <td>86.796677</td>\n",
              "      <td>62.712952</td>\n",
              "      <td>65.179413</td>\n",
              "    </tr>\n",
              "    <tr>\n",
              "      <th>2012-01-05</th>\n",
              "      <td>44.665421</td>\n",
              "      <td>42.969200</td>\n",
              "      <td>86.422798</td>\n",
              "      <td>62.659473</td>\n",
              "      <td>65.271637</td>\n",
              "    </tr>\n",
              "    <tr>\n",
              "      <th>2012-01-06</th>\n",
              "      <td>44.565479</td>\n",
              "      <td>43.045528</td>\n",
              "      <td>86.758545</td>\n",
              "      <td>62.827484</td>\n",
              "      <td>65.338737</td>\n",
              "    </tr>\n",
              "    <tr>\n",
              "      <th>2012-01-09</th>\n",
              "      <td>44.420101</td>\n",
              "      <td>42.997299</td>\n",
              "      <td>86.628792</td>\n",
              "      <td>62.934376</td>\n",
              "      <td>65.372261</td>\n",
              "    </tr>\n",
              "  </tbody>\n",
              "</table>\n",
              "</div>"
            ]
          },
          "metadata": {}
        }
      ],
      "execution_count": 2,
      "metadata": {
        "collapsed": false,
        "outputHidden": false,
        "inputHidden": false
      }
    },
    {
      "cell_type": "code",
      "source": [
        "df.tail()"
      ],
      "outputs": [
        {
          "output_type": "execute_result",
          "execution_count": 3,
          "data": {
            "text/plain": [
              "                 FLOT       IGIB         LQD       VCIT       VCSH\n",
              "Date                                                              \n",
              "2018-12-24  49.024818  50.571461  108.879257  79.917885  75.793510\n",
              "2018-12-26  49.093155  50.493843  108.791832  79.694481  75.744713\n",
              "2018-12-27  49.151722  50.552059  108.791832  79.937302  75.861839\n",
              "2018-12-28  49.151722  50.775238  109.306747  80.228691  75.969215\n",
              "2018-12-31  49.161488  50.862553  109.607895  80.481224  76.076591"
            ],
            "text/html": [
              "<div>\n",
              "<style scoped>\n",
              "    .dataframe tbody tr th:only-of-type {\n",
              "        vertical-align: middle;\n",
              "    }\n",
              "\n",
              "    .dataframe tbody tr th {\n",
              "        vertical-align: top;\n",
              "    }\n",
              "\n",
              "    .dataframe thead th {\n",
              "        text-align: right;\n",
              "    }\n",
              "</style>\n",
              "<table border=\"1\" class=\"dataframe\">\n",
              "  <thead>\n",
              "    <tr style=\"text-align: right;\">\n",
              "      <th></th>\n",
              "      <th>FLOT</th>\n",
              "      <th>IGIB</th>\n",
              "      <th>LQD</th>\n",
              "      <th>VCIT</th>\n",
              "      <th>VCSH</th>\n",
              "    </tr>\n",
              "    <tr>\n",
              "      <th>Date</th>\n",
              "      <th></th>\n",
              "      <th></th>\n",
              "      <th></th>\n",
              "      <th></th>\n",
              "      <th></th>\n",
              "    </tr>\n",
              "  </thead>\n",
              "  <tbody>\n",
              "    <tr>\n",
              "      <th>2018-12-24</th>\n",
              "      <td>49.024818</td>\n",
              "      <td>50.571461</td>\n",
              "      <td>108.879257</td>\n",
              "      <td>79.917885</td>\n",
              "      <td>75.793510</td>\n",
              "    </tr>\n",
              "    <tr>\n",
              "      <th>2018-12-26</th>\n",
              "      <td>49.093155</td>\n",
              "      <td>50.493843</td>\n",
              "      <td>108.791832</td>\n",
              "      <td>79.694481</td>\n",
              "      <td>75.744713</td>\n",
              "    </tr>\n",
              "    <tr>\n",
              "      <th>2018-12-27</th>\n",
              "      <td>49.151722</td>\n",
              "      <td>50.552059</td>\n",
              "      <td>108.791832</td>\n",
              "      <td>79.937302</td>\n",
              "      <td>75.861839</td>\n",
              "    </tr>\n",
              "    <tr>\n",
              "      <th>2018-12-28</th>\n",
              "      <td>49.151722</td>\n",
              "      <td>50.775238</td>\n",
              "      <td>109.306747</td>\n",
              "      <td>80.228691</td>\n",
              "      <td>75.969215</td>\n",
              "    </tr>\n",
              "    <tr>\n",
              "      <th>2018-12-31</th>\n",
              "      <td>49.161488</td>\n",
              "      <td>50.862553</td>\n",
              "      <td>109.607895</td>\n",
              "      <td>80.481224</td>\n",
              "      <td>76.076591</td>\n",
              "    </tr>\n",
              "  </tbody>\n",
              "</table>\n",
              "</div>"
            ]
          },
          "metadata": {}
        }
      ],
      "execution_count": 3,
      "metadata": {
        "collapsed": false,
        "outputHidden": false,
        "inputHidden": false
      }
    },
    {
      "cell_type": "code",
      "source": [
        "from datetime import datetime\n",
        "from dateutil import relativedelta\n",
        "\n",
        "d1 = datetime.strptime(start, \"%Y-%m-%d\")\n",
        "d2 = datetime.strptime(end, \"%Y-%m-%d\")\n",
        "delta = relativedelta.relativedelta(d2,d1)\n",
        "print('How many years of investing?')\n",
        "print('%s years' % delta.years)"
      ],
      "outputs": [
        {
          "output_type": "stream",
          "name": "stdout",
          "text": [
            "How many years of investing?\n",
            "7 years\n"
          ]
        }
      ],
      "execution_count": 4,
      "metadata": {
        "collapsed": false,
        "outputHidden": false,
        "inputHidden": false
      }
    },
    {
      "cell_type": "markdown",
      "source": [
        "### Starting Cash with 100k to invest in Bonds"
      ],
      "metadata": {}
    },
    {
      "cell_type": "code",
      "source": [
        "Cash = 100000\n",
        "print('Percentage of invest:')\n",
        "percent_invest = [0.20, 0.20, 0.20, 0.20, 0.20]\n",
        "for i, x in zip(df.columns, percent_invest):\n",
        "    cost = x * Cash\n",
        "    print('{}: {}'.format(i, cost))"
      ],
      "outputs": [
        {
          "output_type": "stream",
          "name": "stdout",
          "text": [
            "Percentage of invest:\n",
            "FLOT: 20000.0\n",
            "IGIB: 20000.0\n",
            "LQD: 20000.0\n",
            "VCIT: 20000.0\n",
            "VCSH: 20000.0\n"
          ]
        }
      ],
      "execution_count": 5,
      "metadata": {
        "collapsed": false,
        "outputHidden": false,
        "inputHidden": false
      }
    },
    {
      "cell_type": "code",
      "source": [
        "print('Number of Shares:')\n",
        "percent_invest = [0.20, 0.20, 0.20, 0.20, 0.20]\n",
        "for i, x, y in zip(df.columns, percent_invest, df.iloc[0]):\n",
        "    cost = x * Cash\n",
        "    shares = int(cost/y)\n",
        "    print('{}: {}'.format(i, shares))"
      ],
      "outputs": [
        {
          "output_type": "stream",
          "name": "stdout",
          "text": [
            "Number of Shares:\n",
            "FLOT: 448\n",
            "IGIB: 464\n",
            "LQD: 230\n",
            "VCIT: 318\n",
            "VCSH: 306\n"
          ]
        }
      ],
      "execution_count": 6,
      "metadata": {
        "collapsed": false,
        "outputHidden": false,
        "inputHidden": false
      }
    },
    {
      "cell_type": "code",
      "source": [
        "print('Beginning Value:')\n",
        "percent_invest = [0.20, 0.20, 0.20, 0.20, 0.20]\n",
        "for i, x, y in zip(df.columns, percent_invest, df.iloc[0]):\n",
        "    cost = x * Cash\n",
        "    shares = int(cost/y)\n",
        "    Begin_Value = round(shares * y, 2)\n",
        "    print('{}: ${}'.format(i, Begin_Value))"
      ],
      "outputs": [
        {
          "output_type": "stream",
          "name": "stdout",
          "text": [
            "Beginning Value:\n",
            "FLOT: $19965.33\n",
            "IGIB: $19995.49\n",
            "LQD: $19947.43\n",
            "VCIT: $19993.72\n",
            "VCSH: $19952.6\n"
          ]
        }
      ],
      "execution_count": 7,
      "metadata": {
        "collapsed": false,
        "outputHidden": false,
        "inputHidden": false
      }
    },
    {
      "cell_type": "code",
      "source": [
        "print('Current Value:')\n",
        "percent_invest = [0.20, 0.20, 0.20, 0.20, 0.20]\n",
        "for i, x, y, z in zip(df.columns, percent_invest, df.iloc[0], df.iloc[-1]):\n",
        "    cost = x * Cash\n",
        "    shares = int(cost/y)\n",
        "    Current_Value = round(shares * z, 2)\n",
        "    print('{}: ${}'.format(i, Current_Value))"
      ],
      "outputs": [
        {
          "output_type": "stream",
          "name": "stdout",
          "text": [
            "Current Value:\n",
            "FLOT: $22024.35\n",
            "IGIB: $23600.22\n",
            "LQD: $25209.82\n",
            "VCIT: $25593.03\n",
            "VCSH: $23279.44\n"
          ]
        }
      ],
      "execution_count": 8,
      "metadata": {
        "collapsed": false,
        "outputHidden": false,
        "inputHidden": false
      }
    },
    {
      "cell_type": "code",
      "source": [
        "result = []\n",
        "percent_invest = [0.20, 0.20, 0.20, 0.20, 0.20]\n",
        "for i, x, y, z in zip(df.columns, percent_invest, df.iloc[0], df.iloc[-1]):\n",
        "    cost = x * Cash\n",
        "    shares = int(cost/y)\n",
        "    Current_Value = round(shares * z, 2)\n",
        "    result.append(Current_Value)\n",
        "print('Total Value: $%s' % round(sum(result),2))"
      ],
      "outputs": [
        {
          "output_type": "stream",
          "name": "stdout",
          "text": [
            "Total Value: $119706.86\n"
          ]
        }
      ],
      "execution_count": 9,
      "metadata": {
        "collapsed": false,
        "outputHidden": false,
        "inputHidden": false
      }
    },
    {
      "cell_type": "code",
      "source": [
        "# Calculate Daily Returns\n",
        "returns = df.pct_change()\n",
        "returns = returns.dropna()"
      ],
      "outputs": [],
      "execution_count": 10,
      "metadata": {
        "collapsed": false,
        "outputHidden": false,
        "inputHidden": false
      }
    },
    {
      "cell_type": "code",
      "source": [
        "# Calculate mean returns\n",
        "meanDailyReturns = returns.mean()\n",
        "print(meanDailyReturns)"
      ],
      "outputs": [
        {
          "output_type": "stream",
          "name": "stdout",
          "text": [
            "FLOT    0.000056\n",
            "IGIB    0.000095\n",
            "LQD     0.000138\n",
            "VCIT    0.000144\n",
            "VCSH    0.000088\n",
            "dtype: float64\n"
          ]
        }
      ],
      "execution_count": 11,
      "metadata": {
        "collapsed": false,
        "outputHidden": false,
        "inputHidden": false
      }
    },
    {
      "cell_type": "code",
      "source": [
        "# Calculate std returns\n",
        "stdDailyReturns = returns.std()\n",
        "print(stdDailyReturns)"
      ],
      "outputs": [
        {
          "output_type": "stream",
          "name": "stdout",
          "text": [
            "FLOT    0.000644\n",
            "IGIB    0.001579\n",
            "LQD     0.003103\n",
            "VCIT    0.002503\n",
            "VCSH    0.000993\n",
            "dtype: float64\n"
          ]
        }
      ],
      "execution_count": 12,
      "metadata": {
        "collapsed": false,
        "outputHidden": false,
        "inputHidden": false
      }
    },
    {
      "cell_type": "code",
      "source": [
        "# Define weights for the portfolio\n",
        "weights = np.array([0.20, 0.20, 0.20, 0.20, 0.20])"
      ],
      "outputs": [],
      "execution_count": 13,
      "metadata": {
        "collapsed": false,
        "outputHidden": false,
        "inputHidden": false
      }
    },
    {
      "cell_type": "code",
      "source": [
        "# Calculate the covariance matrix on daily returns\n",
        "cov_matrix = (returns.cov())*250\n",
        "print (cov_matrix)"
      ],
      "outputs": [
        {
          "output_type": "stream",
          "name": "stdout",
          "text": [
            "          FLOT      IGIB       LQD      VCIT      VCSH\n",
            "FLOT  0.000104  0.000007 -0.000013  0.000006  0.000005\n",
            "IGIB  0.000007  0.000623  0.001011  0.000832  0.000283\n",
            "LQD  -0.000013  0.001011  0.002407  0.001708  0.000519\n",
            "VCIT  0.000006  0.000832  0.001708  0.001567  0.000450\n",
            "VCSH  0.000005  0.000283  0.000519  0.000450  0.000246\n"
          ]
        }
      ],
      "execution_count": 14,
      "metadata": {
        "collapsed": false,
        "outputHidden": false,
        "inputHidden": false
      }
    },
    {
      "cell_type": "code",
      "source": [
        "# Calculate expected portfolio performance\n",
        "portReturn = np.sum(meanDailyReturns*weights)"
      ],
      "outputs": [],
      "execution_count": 15,
      "metadata": {
        "collapsed": false,
        "outputHidden": false,
        "inputHidden": false
      }
    },
    {
      "cell_type": "code",
      "source": [
        "# Print the portfolio return\n",
        "print(portReturn)"
      ],
      "outputs": [
        {
          "output_type": "stream",
          "name": "stdout",
          "text": [
            "0.00010421816201754402\n"
          ]
        }
      ],
      "execution_count": 16,
      "metadata": {
        "collapsed": false,
        "outputHidden": false,
        "inputHidden": false
      }
    },
    {
      "cell_type": "code",
      "source": [
        "# Create portfolio returns column\n",
        "returns['Portfolio'] = returns.dot(weights)"
      ],
      "outputs": [],
      "execution_count": 17,
      "metadata": {
        "collapsed": false,
        "outputHidden": false,
        "inputHidden": false
      }
    },
    {
      "cell_type": "code",
      "source": [
        "returns.head()"
      ],
      "outputs": [
        {
          "output_type": "execute_result",
          "execution_count": 18,
          "data": {
            "text/plain": [
              "                FLOT      IGIB       LQD      VCIT      VCSH  Portfolio\n",
              "Date                                                                   \n",
              "2012-01-04 -0.000612 -0.001585  0.000792 -0.002551 -0.000386  -0.000868\n",
              "2012-01-05  0.002856 -0.001307 -0.004308 -0.000853  0.001415  -0.000439\n",
              "2012-01-06 -0.002238  0.001776  0.003885  0.002681  0.001028   0.001427\n",
              "2012-01-09 -0.003262 -0.001120 -0.001496  0.001701  0.000513  -0.000733\n",
              "2012-01-10  0.002455 -0.000094  0.002819  0.000728 -0.000257   0.001130"
            ],
            "text/html": [
              "<div>\n",
              "<style scoped>\n",
              "    .dataframe tbody tr th:only-of-type {\n",
              "        vertical-align: middle;\n",
              "    }\n",
              "\n",
              "    .dataframe tbody tr th {\n",
              "        vertical-align: top;\n",
              "    }\n",
              "\n",
              "    .dataframe thead th {\n",
              "        text-align: right;\n",
              "    }\n",
              "</style>\n",
              "<table border=\"1\" class=\"dataframe\">\n",
              "  <thead>\n",
              "    <tr style=\"text-align: right;\">\n",
              "      <th></th>\n",
              "      <th>FLOT</th>\n",
              "      <th>IGIB</th>\n",
              "      <th>LQD</th>\n",
              "      <th>VCIT</th>\n",
              "      <th>VCSH</th>\n",
              "      <th>Portfolio</th>\n",
              "    </tr>\n",
              "    <tr>\n",
              "      <th>Date</th>\n",
              "      <th></th>\n",
              "      <th></th>\n",
              "      <th></th>\n",
              "      <th></th>\n",
              "      <th></th>\n",
              "      <th></th>\n",
              "    </tr>\n",
              "  </thead>\n",
              "  <tbody>\n",
              "    <tr>\n",
              "      <th>2012-01-04</th>\n",
              "      <td>-0.000612</td>\n",
              "      <td>-0.001585</td>\n",
              "      <td>0.000792</td>\n",
              "      <td>-0.002551</td>\n",
              "      <td>-0.000386</td>\n",
              "      <td>-0.000868</td>\n",
              "    </tr>\n",
              "    <tr>\n",
              "      <th>2012-01-05</th>\n",
              "      <td>0.002856</td>\n",
              "      <td>-0.001307</td>\n",
              "      <td>-0.004308</td>\n",
              "      <td>-0.000853</td>\n",
              "      <td>0.001415</td>\n",
              "      <td>-0.000439</td>\n",
              "    </tr>\n",
              "    <tr>\n",
              "      <th>2012-01-06</th>\n",
              "      <td>-0.002238</td>\n",
              "      <td>0.001776</td>\n",
              "      <td>0.003885</td>\n",
              "      <td>0.002681</td>\n",
              "      <td>0.001028</td>\n",
              "      <td>0.001427</td>\n",
              "    </tr>\n",
              "    <tr>\n",
              "      <th>2012-01-09</th>\n",
              "      <td>-0.003262</td>\n",
              "      <td>-0.001120</td>\n",
              "      <td>-0.001496</td>\n",
              "      <td>0.001701</td>\n",
              "      <td>0.000513</td>\n",
              "      <td>-0.000733</td>\n",
              "    </tr>\n",
              "    <tr>\n",
              "      <th>2012-01-10</th>\n",
              "      <td>0.002455</td>\n",
              "      <td>-0.000094</td>\n",
              "      <td>0.002819</td>\n",
              "      <td>0.000728</td>\n",
              "      <td>-0.000257</td>\n",
              "      <td>0.001130</td>\n",
              "    </tr>\n",
              "  </tbody>\n",
              "</table>\n",
              "</div>"
            ]
          },
          "metadata": {}
        }
      ],
      "execution_count": 18,
      "metadata": {
        "collapsed": false,
        "outputHidden": false,
        "inputHidden": false
      }
    },
    {
      "cell_type": "code",
      "source": [
        "returns.tail()"
      ],
      "outputs": [
        {
          "output_type": "execute_result",
          "execution_count": 19,
          "data": {
            "text/plain": [
              "                FLOT      IGIB       LQD      VCIT      VCSH  Portfolio\n",
              "Date                                                                   \n",
              "2018-12-24 -0.001193 -0.001341 -0.002315 -0.001517 -0.000193  -0.001312\n",
              "2018-12-26  0.001394 -0.001535 -0.000803 -0.002795 -0.000644  -0.000877\n",
              "2018-12-27  0.001193  0.001153  0.000000  0.003047  0.001546   0.001388\n",
              "2018-12-28  0.000000  0.004415  0.004733  0.003645  0.001415   0.002842\n",
              "2018-12-31  0.000199  0.001720  0.002755  0.003148  0.001413   0.001847"
            ],
            "text/html": [
              "<div>\n",
              "<style scoped>\n",
              "    .dataframe tbody tr th:only-of-type {\n",
              "        vertical-align: middle;\n",
              "    }\n",
              "\n",
              "    .dataframe tbody tr th {\n",
              "        vertical-align: top;\n",
              "    }\n",
              "\n",
              "    .dataframe thead th {\n",
              "        text-align: right;\n",
              "    }\n",
              "</style>\n",
              "<table border=\"1\" class=\"dataframe\">\n",
              "  <thead>\n",
              "    <tr style=\"text-align: right;\">\n",
              "      <th></th>\n",
              "      <th>FLOT</th>\n",
              "      <th>IGIB</th>\n",
              "      <th>LQD</th>\n",
              "      <th>VCIT</th>\n",
              "      <th>VCSH</th>\n",
              "      <th>Portfolio</th>\n",
              "    </tr>\n",
              "    <tr>\n",
              "      <th>Date</th>\n",
              "      <th></th>\n",
              "      <th></th>\n",
              "      <th></th>\n",
              "      <th></th>\n",
              "      <th></th>\n",
              "      <th></th>\n",
              "    </tr>\n",
              "  </thead>\n",
              "  <tbody>\n",
              "    <tr>\n",
              "      <th>2018-12-24</th>\n",
              "      <td>-0.001193</td>\n",
              "      <td>-0.001341</td>\n",
              "      <td>-0.002315</td>\n",
              "      <td>-0.001517</td>\n",
              "      <td>-0.000193</td>\n",
              "      <td>-0.001312</td>\n",
              "    </tr>\n",
              "    <tr>\n",
              "      <th>2018-12-26</th>\n",
              "      <td>0.001394</td>\n",
              "      <td>-0.001535</td>\n",
              "      <td>-0.000803</td>\n",
              "      <td>-0.002795</td>\n",
              "      <td>-0.000644</td>\n",
              "      <td>-0.000877</td>\n",
              "    </tr>\n",
              "    <tr>\n",
              "      <th>2018-12-27</th>\n",
              "      <td>0.001193</td>\n",
              "      <td>0.001153</td>\n",
              "      <td>0.000000</td>\n",
              "      <td>0.003047</td>\n",
              "      <td>0.001546</td>\n",
              "      <td>0.001388</td>\n",
              "    </tr>\n",
              "    <tr>\n",
              "      <th>2018-12-28</th>\n",
              "      <td>0.000000</td>\n",
              "      <td>0.004415</td>\n",
              "      <td>0.004733</td>\n",
              "      <td>0.003645</td>\n",
              "      <td>0.001415</td>\n",
              "      <td>0.002842</td>\n",
              "    </tr>\n",
              "    <tr>\n",
              "      <th>2018-12-31</th>\n",
              "      <td>0.000199</td>\n",
              "      <td>0.001720</td>\n",
              "      <td>0.002755</td>\n",
              "      <td>0.003148</td>\n",
              "      <td>0.001413</td>\n",
              "      <td>0.001847</td>\n",
              "    </tr>\n",
              "  </tbody>\n",
              "</table>\n",
              "</div>"
            ]
          },
          "metadata": {}
        }
      ],
      "execution_count": 19,
      "metadata": {
        "collapsed": false,
        "outputHidden": false,
        "inputHidden": false
      }
    },
    {
      "cell_type": "code",
      "source": [
        "# Calculate cumulative returns\n",
        "daily_cum_ret=(1+returns).cumprod()\n",
        "print(daily_cum_ret.tail())"
      ],
      "outputs": [
        {
          "output_type": "stream",
          "name": "stdout",
          "text": [
            "                FLOT      IGIB       LQD      VCIT      VCSH  Portfolio\n",
            "Date                                                                   \n",
            "2018-12-24  1.100063  1.173522  1.255411  1.271094  1.162396   1.192521\n",
            "2018-12-26  1.101596  1.171721  1.254403  1.267540  1.161648   1.191475\n",
            "2018-12-27  1.102910  1.173072  1.254403  1.271402  1.163444   1.193129\n",
            "2018-12-28  1.102910  1.178251  1.260340  1.276037  1.165091   1.196519\n",
            "2018-12-31  1.103129  1.180277  1.263813  1.280054  1.166737   1.198729\n"
          ]
        }
      ],
      "execution_count": 20,
      "metadata": {
        "collapsed": false,
        "outputHidden": false,
        "inputHidden": false
      }
    },
    {
      "cell_type": "code",
      "source": [
        "returns['Portfolio'].hist()\n",
        "plt.show()"
      ],
      "outputs": [
        {
          "output_type": "display_data",
          "data": {
            "text/plain": [
              "<Figure size 432x288 with 1 Axes>"
            ],
            "image/png": "[encoded data removed]"
          },
          "metadata": {}
        }
      ],
      "execution_count": 21,
      "metadata": {
        "collapsed": false,
        "outputHidden": false,
        "inputHidden": false
      }
    },
    {
      "cell_type": "code",
      "source": [
        "import matplotlib.dates\n",
        "\n",
        "# Plot the portfolio cumulative returns only\n",
        "fig, ax = plt.subplots()\n",
        "ax.plot(daily_cum_ret.index, daily_cum_ret.Portfolio, color='purple', label=\"portfolio\")\n",
        "ax.xaxis.set_major_locator(matplotlib.dates.YearLocator())\n",
        "plt.legend()\n",
        "plt.show()"
      ],
      "outputs": [
        {
          "output_type": "display_data",
          "data": {
            "text/plain": [
              "<Figure size 432x288 with 1 Axes>"
            ],
            "image/png": "[encoded data removed]"
          },
          "metadata": {}
        }
      ],
      "execution_count": 22,
      "metadata": {
        "collapsed": false,
        "outputHidden": false,
        "inputHidden": false
      }
    },
    {
      "cell_type": "code",
      "source": [
        "# Print the mean\n",
        "print(\"mean : \", returns['Portfolio'].mean()*100)\n",
        "\n",
        "# Print the standard deviation\n",
        "print(\"Std. dev: \", returns['Portfolio'].std()*100)\n",
        "\n",
        "# Print the skewness\n",
        "print(\"skew: \", returns['Portfolio'].skew())\n",
        "\n",
        "# Print the kurtosis\n",
        "print(\"kurt: \", returns['Portfolio'].kurtosis())"
      ],
      "outputs": [
        {
          "output_type": "stream",
          "name": "stdout",
          "text": [
            "mean :  0.010421816201754393\n",
            "Std. dev:  0.15264183922153257\n",
            "skew:  -0.33950240263201276\n",
            "kurt:  2.457893589099672\n"
          ]
        }
      ],
      "execution_count": 23,
      "metadata": {
        "collapsed": false,
        "outputHidden": false,
        "inputHidden": false
      }
    },
    {
      "cell_type": "code",
      "source": [
        "# Calculate the standard deviation by taking the square root\n",
        "port_standard_dev = np.sqrt(np.dot(weights.T, np.dot(weights, cov_matrix)))\n",
        "\n",
        "# Print the results \n",
        "print(str(np.round(port_standard_dev, 4) * 100) + '%')"
      ],
      "outputs": [
        {
          "output_type": "stream",
          "name": "stdout",
          "text": [
            "2.41%\n"
          ]
        }
      ],
      "execution_count": 24,
      "metadata": {
        "collapsed": false,
        "outputHidden": false,
        "inputHidden": false
      }
    },
    {
      "cell_type": "code",
      "source": [
        "# Calculate the portfolio variance\n",
        "port_variance = np.dot(weights.T, np.dot(cov_matrix, weights))\n",
        "\n",
        "# Print the result\n",
        "print(str(np.round(port_variance, 4) * 100) + '%')"
      ],
      "outputs": [
        {
          "output_type": "stream",
          "name": "stdout",
          "text": [
            "0.06%\n"
          ]
        }
      ],
      "execution_count": 25,
      "metadata": {
        "collapsed": false,
        "outputHidden": false,
        "inputHidden": false
      }
    },
    {
      "cell_type": "code",
      "source": [
        "# Calculate total return and annualized return from price data \n",
        "total_return = (returns['Portfolio'][-1] - returns['Portfolio'][0]) / returns['Portfolio'][0]\n",
        "\n",
        "# Annualize the total return over 5 year \n",
        "annualized_return = ((total_return + 1)**(1/5))-1"
      ],
      "outputs": [],
      "execution_count": 26,
      "metadata": {
        "collapsed": false,
        "outputHidden": false,
        "inputHidden": false
      }
    },
    {
      "cell_type": "code",
      "source": [
        "# Calculate annualized volatility from the standard deviation\n",
        "vol_port = returns['Portfolio'].std() * np.sqrt(250)"
      ],
      "outputs": [],
      "execution_count": 27,
      "metadata": {
        "collapsed": false,
        "outputHidden": false,
        "inputHidden": false
      }
    },
    {
      "cell_type": "code",
      "source": [
        "# Calculate the Sharpe ratio \n",
        "rf = 0.01\n",
        "sharpe_ratio = ((annualized_return - rf) / vol_port)\n",
        "print(sharpe_ratio)"
      ],
      "outputs": [
        {
          "output_type": "stream",
          "name": "stdout",
          "text": [
            "nan\n"
          ]
        }
      ],
      "execution_count": 28,
      "metadata": {
        "collapsed": false,
        "outputHidden": false,
        "inputHidden": false
      }
    },
    {
      "cell_type": "code",
      "source": [
        "# Create a downside return column with the negative returns only\n",
        "target = 0\n",
        "downside_returns = returns.loc[returns['Portfolio'] < target]\n",
        "\n",
        "# Calculate expected return and std dev of downside\n",
        "expected_return = returns['Portfolio'].mean()\n",
        "down_stdev = downside_returns.std()\n",
        "\n",
        "# Calculate the sortino ratio\n",
        "rf = 0.01\n",
        "sortino_ratio = (expected_return - rf)/down_stdev\n",
        "\n",
        "# Print the results\n",
        "print(\"Expected return: \", expected_return*100)\n",
        "print('-' * 50)\n",
        "print(\"Downside risk:\")\n",
        "print(down_stdev*100)\n",
        "print('-' * 50)\n",
        "print(\"Sortino ratio:\")\n",
        "print(sortino_ratio)"
      ],
      "outputs": [
        {
          "output_type": "stream",
          "name": "stdout",
          "text": [
            "Expected return:  0.010421816201754393\n",
            "--------------------------------------------------\n",
            "Downside risk:\n",
            "FLOT         0.069585\n",
            "IGIB         0.122584\n",
            "LQD          0.233797\n",
            "VCIT         0.184560\n",
            "VCSH         0.080776\n",
            "Portfolio    0.108097\n",
            "dtype: float64\n",
            "--------------------------------------------------\n",
            "Sortino ratio:\n",
            "FLOT        -14.221141\n",
            "IGIB         -8.072666\n",
            "LQD          -4.232633\n",
            "VCIT         -5.361821\n",
            "VCSH        -12.250953\n",
            "Portfolio    -9.154560\n",
            "dtype: float64\n"
          ]
        }
      ],
      "execution_count": 29,
      "metadata": {
        "collapsed": false,
        "outputHidden": false,
        "inputHidden": false
      }
    },
    {
      "cell_type": "code",
      "source": [
        "# Calculate the max value \n",
        "roll_max = returns['Portfolio'].rolling(center=False,min_periods=1,window=252).max()\n",
        "\n",
        "# Calculate the daily draw-down relative to the max\n",
        "daily_draw_down = returns['Portfolio']/roll_max - 1.0\n",
        "\n",
        "# Calculate the minimum (negative) daily draw-down\n",
        "max_daily_draw_down = daily_draw_down.rolling(center=False,min_periods=1,window=252).min()\n",
        "\n",
        "# Plot the results\n",
        "plt.figure(figsize=(15,15))\n",
        "plt.plot(returns.index, daily_draw_down, label='Daily drawdown')\n",
        "plt.plot(returns.index, max_daily_draw_down, label='Maximum daily drawdown in time-window')\n",
        "plt.legend()\n",
        "plt.show()"
      ],
      "outputs": [
        {
          "output_type": "display_data",
          "data": {
            "text/plain": [
              "<Figure size 1080x1080 with 1 Axes>"
            ],
            "image/png": "[encoded data removed]"
          },
          "metadata": {}
        }
      ],
      "execution_count": 30,
      "metadata": {
        "collapsed": false,
        "outputHidden": false,
        "inputHidden": false
      }
    },
    {
      "cell_type": "code",
      "source": [
        "plt.figure(figsize=(7,7))\n",
        "corr = returns.corr()\n",
        "\n",
        "# plot the heatmap\n",
        "sns.heatmap(corr, \n",
        "        xticklabels=corr.columns,\n",
        "        yticklabels=corr.columns,\n",
        "            cmap=\"Blues\")"
      ],
      "outputs": [
        {
          "output_type": "execute_result",
          "execution_count": 31,
          "data": {
            "text/plain": [
              "<matplotlib.axes._subplots.AxesSubplot at 0x1cafe66c898>"
            ]
          },
          "metadata": {}
        },
        {
          "output_type": "display_data",
          "data": {
            "text/plain": [
              "<Figure size 504x504 with 2 Axes>"
            ],
            "image/png": "[encoded data removed]"
          },
          "metadata": {}
        }
      ],
      "execution_count": 31,
      "metadata": {
        "collapsed": false,
        "outputHidden": false,
        "inputHidden": false
      }
    },
    {
      "cell_type": "code",
      "source": [
        "# Box plot\n",
        "returns.plot(kind='box')"
      ],
      "outputs": [
        {
          "output_type": "execute_result",
          "execution_count": 32,
          "data": {
            "text/plain": [
              "<matplotlib.axes._subplots.AxesSubplot at 0x1cafe6d76d8>"
            ]
          },
          "metadata": {}
        },
        {
          "output_type": "display_data",
          "data": {
            "text/plain": [
              "<Figure size 432x288 with 1 Axes>"
            ],
            "image/png": "[encoded data removed]"
          },
          "metadata": {}
        }
      ],
      "execution_count": 32,
      "metadata": {
        "collapsed": false,
        "outputHidden": false,
        "inputHidden": false
      }
    },
    {
      "cell_type": "code",
      "source": [
        "rets = returns.dropna()\n",
        "\n",
        "plt.scatter(rets.mean(), rets.std(),alpha = 0.5)\n",
        "\n",
        "plt.title('Stocks Risk & Returns')\n",
        "plt.xlabel('Expected returns')\n",
        "plt.ylabel('Risk')\n",
        "plt.grid(which='major')\n",
        "\n",
        "for label, x, y in zip(rets.columns, rets.mean(), rets.std()):\n",
        "    plt.annotate(\n",
        "        label, \n",
        "        xy = (x, y), xytext = (50, 50),\n",
        "        textcoords = 'offset points', ha = 'right', va = 'bottom',\n",
        "        arrowprops = dict(arrowstyle = '-', connectionstyle = 'arc3,rad=-0.3'))"
      ],
      "outputs": [
        {
          "output_type": "display_data",
          "data": {
            "text/plain": [
              "<Figure size 432x288 with 1 Axes>"
            ],
            "image/png": "[encoded data removed]"
          },
          "metadata": {}
        }
      ],
      "execution_count": 33,
      "metadata": {
        "collapsed": false,
        "outputHidden": false,
        "inputHidden": false
      }
    },
    {
      "cell_type": "code",
      "source": [
        "area = np.pi*20.0\n",
        "\n",
        "sns.set(style='darkgrid')\n",
        "plt.figure(figsize=(12,8))\n",
        "plt.scatter(rets.mean(), rets.std(), s=area)\n",
        "plt.xlabel(\"Expected Return\", fontsize=15)\n",
        "plt.ylabel(\"Risk\", fontsize=15)\n",
        "plt.title(\"Return vs. Risk for Core and Satellite\", fontsize=20)\n",
        "\n",
        "for label, x, y in zip(rets.columns, rets.mean(), rets.std()) : \n",
        "    plt.annotate(label, xy=(x,y), xytext=(50, 0), textcoords='offset points',\n",
        "                arrowprops=dict(arrowstyle='-', connectionstyle='bar,angle=180,fraction=-0.2'),\n",
        "                bbox=dict(boxstyle=\"round\", fc=\"w\"))"
      ],
      "outputs": [
        {
          "output_type": "display_data",
          "data": {
            "text/plain": [
              "<Figure size 864x576 with 1 Axes>"
            ],
            "image/png": "[encoded data removed]"
          },
          "metadata": {}
        }
      ],
      "execution_count": 34,
      "metadata": {
        "collapsed": false,
        "outputHidden": false,
        "inputHidden": false
      }
    },
    {
      "cell_type": "code",
      "source": [
        "print(\"Stock returns: \")\n",
        "print(rets.mean())\n",
        "print('-' * 50)\n",
        "print(\"Stock risk:\")\n",
        "print(rets.std())"
      ],
      "outputs": [
        {
          "output_type": "stream",
          "name": "stdout",
          "text": [
            "Stock returns: \n",
            "FLOT         0.000056\n",
            "IGIB         0.000095\n",
            "LQD          0.000138\n",
            "VCIT         0.000144\n",
            "VCSH         0.000088\n",
            "Portfolio    0.000104\n",
            "dtype: float64\n",
            "--------------------------------------------------\n",
            "Stock risk:\n",
            "FLOT         0.000644\n",
            "IGIB         0.001579\n",
            "LQD          0.003103\n",
            "VCIT         0.002503\n",
            "VCSH         0.000993\n",
            "Portfolio    0.001526\n",
            "dtype: float64\n"
          ]
        }
      ],
      "execution_count": 35,
      "metadata": {
        "collapsed": false,
        "outputHidden": false,
        "inputHidden": false
      }
    },
    {
      "cell_type": "code",
      "source": [
        "table = pd.DataFrame()\n",
        "table['Returns'] = rets.mean()\n",
        "table['Risk'] = rets.std()\n",
        "table.sort_values(by='Returns')"
      ],
      "outputs": [
        {
          "output_type": "execute_result",
          "execution_count": 36,
          "data": {
            "text/plain": [
              "            Returns      Risk\n",
              "FLOT       0.000056  0.000644\n",
              "VCSH       0.000088  0.000993\n",
              "IGIB       0.000095  0.001579\n",
              "Portfolio  0.000104  0.001526\n",
              "LQD        0.000138  0.003103\n",
              "VCIT       0.000144  0.002503"
            ],
            "text/html": [
              "<div>\n",
              "<style scoped>\n",
              "    .dataframe tbody tr th:only-of-type {\n",
              "        vertical-align: middle;\n",
              "    }\n",
              "\n",
              "    .dataframe tbody tr th {\n",
              "        vertical-align: top;\n",
              "    }\n",
              "\n",
              "    .dataframe thead th {\n",
              "        text-align: right;\n",
              "    }\n",
              "</style>\n",
              "<table border=\"1\" class=\"dataframe\">\n",
              "  <thead>\n",
              "    <tr style=\"text-align: right;\">\n",
              "      <th></th>\n",
              "      <th>Returns</th>\n",
              "      <th>Risk</th>\n",
              "    </tr>\n",
              "  </thead>\n",
              "  <tbody>\n",
              "    <tr>\n",
              "      <th>FLOT</th>\n",
              "      <td>0.000056</td>\n",
              "      <td>0.000644</td>\n",
              "    </tr>\n",
              "    <tr>\n",
              "      <th>VCSH</th>\n",
              "      <td>0.000088</td>\n",
              "      <td>0.000993</td>\n",
              "    </tr>\n",
              "    <tr>\n",
              "      <th>IGIB</th>\n",
              "      <td>0.000095</td>\n",
              "      <td>0.001579</td>\n",
              "    </tr>\n",
              "    <tr>\n",
              "      <th>Portfolio</th>\n",
              "      <td>0.000104</td>\n",
              "      <td>0.001526</td>\n",
              "    </tr>\n",
              "    <tr>\n",
              "      <th>LQD</th>\n",
              "      <td>0.000138</td>\n",
              "      <td>0.003103</td>\n",
              "    </tr>\n",
              "    <tr>\n",
              "      <th>VCIT</th>\n",
              "      <td>0.000144</td>\n",
              "      <td>0.002503</td>\n",
              "    </tr>\n",
              "  </tbody>\n",
              "</table>\n",
              "</div>"
            ]
          },
          "metadata": {}
        }
      ],
      "execution_count": 36,
      "metadata": {
        "collapsed": false,
        "outputHidden": false,
        "inputHidden": false
      }
    },
    {
      "cell_type": "code",
      "source": [
        "table.sort_values(by='Risk')"
      ],
      "outputs": [
        {
          "output_type": "execute_result",
          "execution_count": 37,
          "data": {
            "text/plain": [
              "            Returns      Risk\n",
              "FLOT       0.000056  0.000644\n",
              "VCSH       0.000088  0.000993\n",
              "Portfolio  0.000104  0.001526\n",
              "IGIB       0.000095  0.001579\n",
              "VCIT       0.000144  0.002503\n",
              "LQD        0.000138  0.003103"
            ],
            "text/html": [
              "<div>\n",
              "<style scoped>\n",
              "    .dataframe tbody tr th:only-of-type {\n",
              "        vertical-align: middle;\n",
              "    }\n",
              "\n",
              "    .dataframe tbody tr th {\n",
              "        vertical-align: top;\n",
              "    }\n",
              "\n",
              "    .dataframe thead th {\n",
              "        text-align: right;\n",
              "    }\n",
              "</style>\n",
              "<table border=\"1\" class=\"dataframe\">\n",
              "  <thead>\n",
              "    <tr style=\"text-align: right;\">\n",
              "      <th></th>\n",
              "      <th>Returns</th>\n",
              "      <th>Risk</th>\n",
              "    </tr>\n",
              "  </thead>\n",
              "  <tbody>\n",
              "    <tr>\n",
              "      <th>FLOT</th>\n",
              "      <td>0.000056</td>\n",
              "      <td>0.000644</td>\n",
              "    </tr>\n",
              "    <tr>\n",
              "      <th>VCSH</th>\n",
              "      <td>0.000088</td>\n",
              "      <td>0.000993</td>\n",
              "    </tr>\n",
              "    <tr>\n",
              "      <th>Portfolio</th>\n",
              "      <td>0.000104</td>\n",
              "      <td>0.001526</td>\n",
              "    </tr>\n",
              "    <tr>\n",
              "      <th>IGIB</th>\n",
              "      <td>0.000095</td>\n",
              "      <td>0.001579</td>\n",
              "    </tr>\n",
              "    <tr>\n",
              "      <th>VCIT</th>\n",
              "      <td>0.000144</td>\n",
              "      <td>0.002503</td>\n",
              "    </tr>\n",
              "    <tr>\n",
              "      <th>LQD</th>\n",
              "      <td>0.000138</td>\n",
              "      <td>0.003103</td>\n",
              "    </tr>\n",
              "  </tbody>\n",
              "</table>\n",
              "</div>"
            ]
          },
          "metadata": {}
        }
      ],
      "execution_count": 37,
      "metadata": {
        "collapsed": false,
        "outputHidden": false,
        "inputHidden": false
      }
    },
    {
      "cell_type": "code",
      "source": [
        "table['Sharpe_Ratio'] = (table['Returns'] / table['Risk']) * np.sqrt(252)\n",
        "table"
      ],
      "outputs": [
        {
          "output_type": "execute_result",
          "execution_count": 38,
          "data": {
            "text/plain": [
              "            Returns      Risk  Sharpe_Ratio\n",
              "FLOT       0.000056  0.000644      1.379752\n",
              "IGIB       0.000095  0.001579      0.960192\n",
              "LQD        0.000138  0.003103      0.705650\n",
              "VCIT       0.000144  0.002503      0.909994\n",
              "VCSH       0.000088  0.000993      1.409720\n",
              "Portfolio  0.000104  0.001526      1.083852"
            ],
            "text/html": [
              "<div>\n",
              "<style scoped>\n",
              "    .dataframe tbody tr th:only-of-type {\n",
              "        vertical-align: middle;\n",
              "    }\n",
              "\n",
              "    .dataframe tbody tr th {\n",
              "        vertical-align: top;\n",
              "    }\n",
              "\n",
              "    .dataframe thead th {\n",
              "        text-align: right;\n",
              "    }\n",
              "</style>\n",
              "<table border=\"1\" class=\"dataframe\">\n",
              "  <thead>\n",
              "    <tr style=\"text-align: right;\">\n",
              "      <th></th>\n",
              "      <th>Returns</th>\n",
              "      <th>Risk</th>\n",
              "      <th>Sharpe_Ratio</th>\n",
              "    </tr>\n",
              "  </thead>\n",
              "  <tbody>\n",
              "    <tr>\n",
              "      <th>FLOT</th>\n",
              "      <td>0.000056</td>\n",
              "      <td>0.000644</td>\n",
              "      <td>1.379752</td>\n",
              "    </tr>\n",
              "    <tr>\n",
              "      <th>IGIB</th>\n",
              "      <td>0.000095</td>\n",
              "      <td>0.001579</td>\n",
              "      <td>0.960192</td>\n",
              "    </tr>\n",
              "    <tr>\n",
              "      <th>LQD</th>\n",
              "      <td>0.000138</td>\n",
              "      <td>0.003103</td>\n",
              "      <td>0.705650</td>\n",
              "    </tr>\n",
              "    <tr>\n",
              "      <th>VCIT</th>\n",
              "      <td>0.000144</td>\n",
              "      <td>0.002503</td>\n",
              "      <td>0.909994</td>\n",
              "    </tr>\n",
              "    <tr>\n",
              "      <th>VCSH</th>\n",
              "      <td>0.000088</td>\n",
              "      <td>0.000993</td>\n",
              "      <td>1.409720</td>\n",
              "    </tr>\n",
              "    <tr>\n",
              "      <th>Portfolio</th>\n",
              "      <td>0.000104</td>\n",
              "      <td>0.001526</td>\n",
              "      <td>1.083852</td>\n",
              "    </tr>\n",
              "  </tbody>\n",
              "</table>\n",
              "</div>"
            ]
          },
          "metadata": {}
        }
      ],
      "execution_count": 38,
      "metadata": {
        "collapsed": false,
        "outputHidden": false,
        "inputHidden": false
      }
    },
    {
      "cell_type": "code",
      "source": [
        "print('Sortino Ratio:')\n",
        "for column in rets:\n",
        "    returns = rets[column]\n",
        "    numer = pow((1 + returns.mean()), 252) - 1\n",
        "    annual_volatility = returns.std() * np.sqrt(252)\n",
        "    denom = annual_volatility\n",
        "\n",
        "    if denom > 0.0:\n",
        "         sortino_ratio = numer / denom\n",
        "    else:\n",
        "        print('none')\n",
        "    print(rets[column].name, sortino_ratio)"
      ],
      "outputs": [],
      "execution_count": null,
      "metadata": {
        "collapsed": false,
        "outputHidden": false,
        "inputHidden": false
      }
    },
    {
      "cell_type": "code",
      "source": [],
      "outputs": [],
      "execution_count": null,
      "metadata": {
        "collapsed": false,
        "outputHidden": false,
        "inputHidden": false
      }
    }
  ],
  "metadata": {
    "kernel_info": {
      "name": "python3"
    },
    "language_info": {
      "mimetype": "text/x-python",
      "codemirror_mode": {
        "name": "ipython",
        "version": 3
      },
      "version": "3.5.5",
      "nbconvert_exporter": "python",
      "pygments_lexer": "ipython3",
      "name": "python",
      "file_extension": ".py"
    },
    "kernelspec": {
      "name": "python3",
      "language": "python",
      "display_name": "Python 3"
    },
    "nteract": {
      "version": "0.15.0"
    }
  },
  "nbformat": 4,
  "nbformat_minor": 0
}