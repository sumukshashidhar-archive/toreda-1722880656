{
 "cells": [
  {
   "cell_type": "code",
   "execution_count": 1,
   "metadata": {},
   "outputs": [],
   "source": [
    "import pandas as pd"
   ]
  },
  {
   "cell_type": "code",
   "execution_count": 2,
   "metadata": {},
   "outputs": [],
   "source": [
    "SYMBOL = 'INFY.BO'\n",
    "INTERVAL = '1min'\n",
    "API_KEY = 'VJOJOA8WIN0QEPCF'"
   ]
  },
  {
   "cell_type": "code",
   "execution_count": 3,
   "metadata": {},
   "outputs": [],
   "source": [
    "url = f'https://www.alphavantage.co/query?function=TIME_SERIES_INTRADAY&symbol={SYMBOL}&interval={INTERVAL}&apikey={API_KEY}&datatype=csv'"
   ]
  },
  {
   "cell_type": "code",
   "execution_count": 4,
   "metadata": {},
   "outputs": [],
   "source": [
    "df = pd.read_csv(url)"
   ]
  },
  {
   "cell_type": "code",
   "execution_count": 5,
   "metadata": {},
   "outputs": [
    {
     "data": {
      "text/html": [
       "<div>\n",
       "<style scoped>\n",
       "    .dataframe tbody tr th:only-of-type {\n",
       "        vertical-align: middle;\n",
       "    }\n",
       "\n",
       "    .dataframe tbody tr th {\n",
       "        vertical-align: top;\n",
       "    }\n",
       "\n",
       "    .dataframe thead th {\n",
       "        text-align: right;\n",
       "    }\n",
       "</style>\n",
       "<table border=\"1\" class=\"dataframe\">\n",
       "  <thead>\n",
       "    <tr style=\"text-align: right;\">\n",
       "      <th></th>\n",
       "      <th>timestamp</th>\n",
       "      <th>open</th>\n",
       "      <th>high</th>\n",
       "      <th>low</th>\n",
       "      <th>close</th>\n",
       "      <th>volume</th>\n",
       "    </tr>\n",
       "  </thead>\n",
       "  <tbody>\n",
       "    <tr>\n",
       "      <th>0</th>\n",
       "      <td>2020-06-12 05:59:00</td>\n",
       "      <td>690.90</td>\n",
       "      <td>692.10</td>\n",
       "      <td>690.45</td>\n",
       "      <td>692.10</td>\n",
       "      <td>532</td>\n",
       "    </tr>\n",
       "    <tr>\n",
       "      <th>1</th>\n",
       "      <td>2020-06-12 05:58:00</td>\n",
       "      <td>690.20</td>\n",
       "      <td>690.50</td>\n",
       "      <td>690.20</td>\n",
       "      <td>690.45</td>\n",
       "      <td>1317</td>\n",
       "    </tr>\n",
       "    <tr>\n",
       "      <th>2</th>\n",
       "      <td>2020-06-12 05:57:00</td>\n",
       "      <td>690.45</td>\n",
       "      <td>690.45</td>\n",
       "      <td>690.05</td>\n",
       "      <td>690.15</td>\n",
       "      <td>79</td>\n",
       "    </tr>\n",
       "    <tr>\n",
       "      <th>3</th>\n",
       "      <td>2020-06-12 05:56:00</td>\n",
       "      <td>690.05</td>\n",
       "      <td>690.45</td>\n",
       "      <td>690.05</td>\n",
       "      <td>690.45</td>\n",
       "      <td>1350</td>\n",
       "    </tr>\n",
       "    <tr>\n",
       "      <th>4</th>\n",
       "      <td>2020-06-12 05:55:00</td>\n",
       "      <td>690.35</td>\n",
       "      <td>690.50</td>\n",
       "      <td>690.00</td>\n",
       "      <td>690.40</td>\n",
       "      <td>457</td>\n",
       "    </tr>\n",
       "  </tbody>\n",
       "</table>\n",
       "</div>"
      ],
      "text/plain": [
       "             timestamp    open    high     low   close  volume\n",
       "0  2020-06-12 05:59:00  690.90  692.10  690.45  692.10     532\n",
       "1  2020-06-12 05:58:00  690.20  690.50  690.20  690.45    1317\n",
       "2  2020-06-12 05:57:00  690.45  690.45  690.05  690.15      79\n",
       "3  2020-06-12 05:56:00  690.05  690.45  690.05  690.45    1350\n",
       "4  2020-06-12 05:55:00  690.35  690.50  690.00  690.40     457"
      ]
     },
     "execution_count": 5,
     "metadata": {},
     "output_type": "execute_result"
    }
   ],
   "source": [
    "df.head()"
   ]
  },
  {
   "cell_type": "code",
   "execution_count": 6,
   "metadata": {},
   "outputs": [
    {
     "data": {
      "text/plain": [
       "<matplotlib.axes._subplots.AxesSubplot at 0x117f8d1f0>"
      ]
     },
     "execution_count": 6,
     "metadata": {},
     "output_type": "execute_result"
    },
    {
     "data": {
      "image/png": "[encoded data removed]",
      "text/plain": [
       "<Figure size 432x288 with 1 Axes>"
      ]
     },
     "metadata": {
      "needs_background": "light"
     },
     "output_type": "display_data"
    }
   ],
   "source": [
    "df['close'].plot()"
   ]
  },
  {
   "cell_type": "code",
   "execution_count": 21,
   "metadata": {},
   "outputs": [
    {
     "data": {
      "text/html": [
       "<div>\n",
       "<style scoped>\n",
       "    .dataframe tbody tr th:only-of-type {\n",
       "        vertical-align: middle;\n",
       "    }\n",
       "\n",
       "    .dataframe tbody tr th {\n",
       "        vertical-align: top;\n",
       "    }\n",
       "\n",
       "    .dataframe thead th {\n",
       "        text-align: right;\n",
       "    }\n",
       "</style>\n",
       "<table border=\"1\" class=\"dataframe\">\n",
       "  <thead>\n",
       "    <tr style=\"text-align: right;\">\n",
       "      <th></th>\n",
       "      <th>timestamp</th>\n",
       "      <th>open</th>\n",
       "      <th>high</th>\n",
       "      <th>low</th>\n",
       "      <th>close</th>\n",
       "      <th>volume</th>\n",
       "      <th>pct</th>\n",
       "      <th>tomo_gain</th>\n",
       "      <th>yday_gain</th>\n",
       "    </tr>\n",
       "  </thead>\n",
       "  <tbody>\n",
       "    <tr>\n",
       "      <th>0</th>\n",
       "      <td>2020-06-12 05:58:00</td>\n",
       "      <td>690.20</td>\n",
       "      <td>690.50</td>\n",
       "      <td>690.20</td>\n",
       "      <td>690.45</td>\n",
       "      <td>1317</td>\n",
       "      <td>-0.002384</td>\n",
       "      <td>-0.30</td>\n",
       "      <td>-1.65</td>\n",
       "    </tr>\n",
       "    <tr>\n",
       "      <th>1</th>\n",
       "      <td>2020-06-12 05:57:00</td>\n",
       "      <td>690.45</td>\n",
       "      <td>690.45</td>\n",
       "      <td>690.05</td>\n",
       "      <td>690.15</td>\n",
       "      <td>79</td>\n",
       "      <td>-0.000434</td>\n",
       "      <td>0.30</td>\n",
       "      <td>-0.30</td>\n",
       "    </tr>\n",
       "    <tr>\n",
       "      <th>2</th>\n",
       "      <td>2020-06-12 05:56:00</td>\n",
       "      <td>690.05</td>\n",
       "      <td>690.45</td>\n",
       "      <td>690.05</td>\n",
       "      <td>690.45</td>\n",
       "      <td>1350</td>\n",
       "      <td>0.000435</td>\n",
       "      <td>-0.05</td>\n",
       "      <td>0.30</td>\n",
       "    </tr>\n",
       "    <tr>\n",
       "      <th>3</th>\n",
       "      <td>2020-06-12 05:55:00</td>\n",
       "      <td>690.35</td>\n",
       "      <td>690.50</td>\n",
       "      <td>690.00</td>\n",
       "      <td>690.40</td>\n",
       "      <td>457</td>\n",
       "      <td>-0.000072</td>\n",
       "      <td>-0.30</td>\n",
       "      <td>-0.05</td>\n",
       "    </tr>\n",
       "    <tr>\n",
       "      <th>4</th>\n",
       "      <td>2020-06-12 05:54:00</td>\n",
       "      <td>690.40</td>\n",
       "      <td>690.50</td>\n",
       "      <td>690.00</td>\n",
       "      <td>690.10</td>\n",
       "      <td>519</td>\n",
       "      <td>-0.000435</td>\n",
       "      <td>0.55</td>\n",
       "      <td>-0.30</td>\n",
       "    </tr>\n",
       "  </tbody>\n",
       "</table>\n",
       "</div>"
      ],
      "text/plain": [
       "             timestamp    open    high     low   close  volume       pct  \\\n",
       "0  2020-06-12 05:58:00  690.20  690.50  690.20  690.45    1317 -0.002384   \n",
       "1  2020-06-12 05:57:00  690.45  690.45  690.05  690.15      79 -0.000434   \n",
       "2  2020-06-12 05:56:00  690.05  690.45  690.05  690.45    1350  0.000435   \n",
       "3  2020-06-12 05:55:00  690.35  690.50  690.00  690.40     457 -0.000072   \n",
       "4  2020-06-12 05:54:00  690.40  690.50  690.00  690.10     519 -0.000435   \n",
       "\n",
       "   tomo_gain  yday_gain  \n",
       "0      -0.30      -1.65  \n",
       "1       0.30      -0.30  \n",
       "2      -0.05       0.30  \n",
       "3      -0.30      -0.05  \n",
       "4       0.55      -0.30  "
      ]
     },
     "execution_count": 21,
     "metadata": {},
     "output_type": "execute_result"
    }
   ],
   "source": [
    "df['tomo_gain'] = df['close'].shift(-1) - df['close']\n",
    "df['yday_gain'] = df['tomo_gain'].shift(1)\n",
    "df = df.dropna()\n",
    "df = df.reset_index(drop=True)\n",
    "df.head()"
   ]
  },
  {
   "cell_type": "code",
   "execution_count": 22,
   "metadata": {},
   "outputs": [
    {
     "data": {
      "text/plain": [
       "<matplotlib.axes._subplots.AxesSubplot at 0x11bcb1940>"
      ]
     },
     "execution_count": 22,
     "metadata": {},
     "output_type": "execute_result"
    },
    {
     "data": {
      "image/png": "[encoded data removed]",
      "text/plain": [
       "<Figure size 432x288 with 1 Axes>"
      ]
     },
     "metadata": {
      "needs_background": "light"
     },
     "output_type": "display_data"
    }
   ],
   "source": [
    "df['tomo_gain'].plot()"
   ]
  },
  {
   "cell_type": "code",
   "execution_count": 7,
   "metadata": {},
   "outputs": [],
   "source": [
    "df['pct'] = df['close'].pct_change()"
   ]
  },
  {
   "cell_type": "code",
   "execution_count": 8,
   "metadata": {},
   "outputs": [
    {
     "data": {
      "text/html": [
       "<div>\n",
       "<style scoped>\n",
       "    .dataframe tbody tr th:only-of-type {\n",
       "        vertical-align: middle;\n",
       "    }\n",
       "\n",
       "    .dataframe tbody tr th {\n",
       "        vertical-align: top;\n",
       "    }\n",
       "\n",
       "    .dataframe thead th {\n",
       "        text-align: right;\n",
       "    }\n",
       "</style>\n",
       "<table border=\"1\" class=\"dataframe\">\n",
       "  <thead>\n",
       "    <tr style=\"text-align: right;\">\n",
       "      <th></th>\n",
       "      <th>open</th>\n",
       "      <th>high</th>\n",
       "      <th>low</th>\n",
       "      <th>close</th>\n",
       "      <th>volume</th>\n",
       "      <th>pct</th>\n",
       "    </tr>\n",
       "  </thead>\n",
       "  <tbody>\n",
       "    <tr>\n",
       "      <th>count</th>\n",
       "      <td>100.000000</td>\n",
       "      <td>100.000000</td>\n",
       "      <td>100.000000</td>\n",
       "      <td>100.000000</td>\n",
       "      <td>100.000000</td>\n",
       "      <td>99.000000</td>\n",
       "    </tr>\n",
       "    <tr>\n",
       "      <th>mean</th>\n",
       "      <td>690.541000</td>\n",
       "      <td>690.950000</td>\n",
       "      <td>690.153500</td>\n",
       "      <td>690.534500</td>\n",
       "      <td>1086.030000</td>\n",
       "      <td>-0.000076</td>\n",
       "    </tr>\n",
       "    <tr>\n",
       "      <th>std</th>\n",
       "      <td>2.045176</td>\n",
       "      <td>2.077768</td>\n",
       "      <td>2.012828</td>\n",
       "      <td>2.061194</td>\n",
       "      <td>1728.643653</td>\n",
       "      <td>0.000965</td>\n",
       "    </tr>\n",
       "    <tr>\n",
       "      <th>min</th>\n",
       "      <td>686.200000</td>\n",
       "      <td>687.100000</td>\n",
       "      <td>686.200000</td>\n",
       "      <td>686.700000</td>\n",
       "      <td>30.000000</td>\n",
       "      <td>-0.002676</td>\n",
       "    </tr>\n",
       "    <tr>\n",
       "      <th>25%</th>\n",
       "      <td>689.000000</td>\n",
       "      <td>689.500000</td>\n",
       "      <td>688.662500</td>\n",
       "      <td>689.237500</td>\n",
       "      <td>292.750000</td>\n",
       "      <td>-0.000617</td>\n",
       "    </tr>\n",
       "    <tr>\n",
       "      <th>50%</th>\n",
       "      <td>690.450000</td>\n",
       "      <td>691.000000</td>\n",
       "      <td>690.075000</td>\n",
       "      <td>690.450000</td>\n",
       "      <td>540.000000</td>\n",
       "      <td>0.000000</td>\n",
       "    </tr>\n",
       "    <tr>\n",
       "      <th>75%</th>\n",
       "      <td>692.362500</td>\n",
       "      <td>692.650000</td>\n",
       "      <td>691.887500</td>\n",
       "      <td>692.325000</td>\n",
       "      <td>1141.750000</td>\n",
       "      <td>0.000471</td>\n",
       "    </tr>\n",
       "    <tr>\n",
       "      <th>max</th>\n",
       "      <td>694.500000</td>\n",
       "      <td>694.800000</td>\n",
       "      <td>694.150000</td>\n",
       "      <td>694.350000</td>\n",
       "      <td>14440.000000</td>\n",
       "      <td>0.002316</td>\n",
       "    </tr>\n",
       "  </tbody>\n",
       "</table>\n",
       "</div>"
      ],
      "text/plain": [
       "             open        high         low       close        volume        pct\n",
       "count  100.000000  100.000000  100.000000  100.000000    100.000000  99.000000\n",
       "mean   690.541000  690.950000  690.153500  690.534500   1086.030000  -0.000076\n",
       "std      2.045176    2.077768    2.012828    2.061194   1728.643653   0.000965\n",
       "min    686.200000  687.100000  686.200000  686.700000     30.000000  -0.002676\n",
       "25%    689.000000  689.500000  688.662500  689.237500    292.750000  -0.000617\n",
       "50%    690.450000  691.000000  690.075000  690.450000    540.000000   0.000000\n",
       "75%    692.362500  692.650000  691.887500  692.325000   1141.750000   0.000471\n",
       "max    694.500000  694.800000  694.150000  694.350000  14440.000000   0.002316"
      ]
     },
     "execution_count": 8,
     "metadata": {},
     "output_type": "execute_result"
    }
   ],
   "source": [
    "df.describe()"
   ]
  },
  {
   "cell_type": "code",
   "execution_count": 9,
   "metadata": {},
   "outputs": [
    {
     "name": "stdout",
     "output_type": "stream",
     "text": [
      "-0.002676117459858074 70\n"
     ]
    }
   ],
   "source": [
    "ctr = 0 \n",
    "ctrcapture = 0\n",
    "mins = 100\n",
    "for i in df['pct'].values:\n",
    "    if i < mins:\n",
    "        mins = i\n",
    "        ctrcapture = ctr\n",
    "    ctr += 1\n",
    "print(mins, ctrcapture)"
   ]
  },
  {
   "cell_type": "code",
   "execution_count": 10,
   "metadata": {},
   "outputs": [
    {
     "name": "stdout",
     "output_type": "stream",
     "text": [
      "[            nan -2.38404855e-03 -4.34499240e-04  4.34688111e-04\n",
      " -7.24165399e-05 -4.34530707e-04  7.96985944e-04 -7.96351263e-04\n",
      " -1.44906535e-04 -4.34782609e-04  5.07467015e-04  4.34751105e-04\n",
      "  1.44854060e-04  1.95524658e-03  7.22752241e-04 -4.33338148e-04\n",
      "  1.15606936e-03  7.21709007e-05  7.21656924e-04 -5.04795558e-04\n",
      " -7.21500722e-05  3.60776391e-04  3.60646278e-04  1.22575528e-03\n",
      "  7.20149791e-05  0.00000000e+00 -1.36818607e-03  3.60542256e-04\n",
      " -5.04577236e-04 -5.76950815e-04 -5.77283879e-04  7.22021661e-04\n",
      "  6.49350649e-04 -3.60516259e-04 -4.32775534e-04 -1.44320970e-04\n",
      "  1.08256351e-03 -1.58604282e-03  7.22073796e-05  4.33212996e-04\n",
      " -2.23729792e-03 -7.23327306e-05 -1.73611111e-03  2.89855072e-04\n",
      "  1.44885540e-04  0.00000000e+00  2.02810372e-03 -1.30114211e-03\n",
      "  1.88187609e-03  0.00000000e+00 -4.33463372e-04  7.22752241e-05\n",
      " -1.22859001e-03 -7.23589001e-04 -7.24112962e-05 -1.08624810e-03\n",
      "  6.52457590e-04  2.17344056e-04  2.89729103e-04  4.34467777e-04\n",
      " -1.30283729e-03  1.44948543e-04  1.44927536e-03 -1.73661360e-03\n",
      "  1.44969556e-03  2.31615518e-03 -1.94974003e-03 -9.40597641e-04\n",
      "  5.79374276e-04  7.23798494e-04 -2.67611746e-03  7.25215752e-05\n",
      " -5.80130529e-04 -9.43259324e-04 -1.37991140e-03  1.01818182e-03\n",
      "  5.08573089e-04  0.00000000e+00  1.23447825e-03 -2.17580505e-04\n",
      " -9.43054044e-04  8.71333140e-04  7.25478816e-04 -2.02986806e-03\n",
      "  7.26427430e-05 -1.08956200e-03  2.18150087e-04 -7.99709197e-04\n",
      "  0.00000000e+00 -7.27590221e-04  6.55307995e-04  7.27643164e-05\n",
      " -7.27590221e-04  1.23780399e-03  2.90887935e-04 -6.54307525e-04\n",
      " -1.45496872e-04  0.00000000e+00  3.63795111e-04 -8.00058186e-04]\n"
     ]
    }
   ],
   "source": [
    "print(df['pct'].values)"
   ]
  },
  {
   "cell_type": "code",
   "execution_count": 11,
   "metadata": {},
   "outputs": [],
   "source": [
    "actions = []\n",
    "ctrs = []"
   ]
  },
  {
   "cell_type": "code",
   "execution_count": 12,
   "metadata": {},
   "outputs": [],
   "source": [
    "prev = []\n",
    "ctr = 0\n",
    "for i in df['pct'].values:\n",
    "    if len(prev) >=10:\n",
    "        sums = 0\n",
    "        for j in prev:\n",
    "            sums = sums + j\n",
    "        if sums < -0.000318:\n",
    "            ctrs.append(ctr)\n",
    "            actions.append(1)\n",
    "        elif sums > 0.00041:\n",
    "            ctrs.append(ctr)\n",
    "            actions.append(0)\n",
    "        else:\n",
    "            ctrs.append(ctr)\n",
    "            actions.append(3)\n",
    "        prev.pop(0)\n",
    "    ctr +=1\n",
    "\n",
    "    prev.append(i)"
   ]
  },
  {
   "cell_type": "code",
   "execution_count": 13,
   "metadata": {},
   "outputs": [],
   "source": [
    "import plotly.express as px"
   ]
  },
  {
   "cell_type": "code",
   "execution_count": 15,
   "metadata": {},
   "outputs": [],
   "source": [
    "import psutil\n",
    "fig = px.line(df, y='close')\n",
    "img_bytes = fig.to_image(format='png')"
   ]
  },
  {
   "cell_type": "code",
   "execution_count": 16,
   "metadata": {},
   "outputs": [],
   "source": [
    "def calcprofit():\n",
    "    port = 1000\n",
    "    init = 2000\n",
    "    if actions[-1] == 1 and actions[-2]==1 and actions[-3]==1:\n",
    "        pass"
   ]
  },
  {
   "cell_type": "code",
   "execution_count": 17,
   "metadata": {},
   "outputs": [],
   "source": [
    "import os\n",
    "\n",
    "if not os.path.exists(\"images\"):\n",
    "    os.mkdir(\"images\")"
   ]
  },
  {
   "cell_type": "code",
   "execution_count": 18,
   "metadata": {},
   "outputs": [
    {
     "data": {
      "image/png": "[encoded data removed]",
      "text/plain": [
       "<IPython.core.display.Image object>"
      ]
     },
     "execution_count": 18,
     "metadata": {},
     "output_type": "execute_result"
    }
   ],
   "source": [
    "from IPython.display import Image\n",
    "Image(img_bytes)"
   ]
  },
  {
   "cell_type": "code",
   "execution_count": 20,
   "metadata": {},
   "outputs": [],
   "source": [
    "import jovian"
   ]
  },
  {
   "cell_type": "code",
   "execution_count": null,
   "metadata": {},
   "outputs": [
    {
     "data": {
      "application/javascript": [
       "window.require && require([\"base/js/namespace\"],function(Jupyter){Jupyter.notebook.save_checkpoint()})"
      ],
      "text/plain": [
       "<IPython.core.display.Javascript object>"
      ]
     },
     "metadata": {},
     "output_type": "display_data"
    },
    {
     "name": "stdout",
     "output_type": "stream",
     "text": [
      "[jovian] Attempting to save notebook..\u001b[0m\n"
     ]
    }
   ],
   "source": [
    "jovian.commit()"
   ]
  }
 ],
 "metadata": {
  "kernelspec": {
   "display_name": "Python 3",
   "language": "python",
   "name": "python3"
  },
  "language_info": {
   "codemirror_mode": {
    "name": "ipython",
    "version": 3
   },
   "file_extension": ".py",
   "mimetype": "text/x-python",
   "name": "python",
   "nbconvert_exporter": "python",
   "pygments_lexer": "ipython3",
   "version": "3.8.3"
  },
  "widgets": {
   "application/vnd.jupyter.widget-state+json": {
    "state": {},
    "version_major": 2,
    "version_minor": 0
   }
  }
 },
 "nbformat": 4,
 "nbformat_minor": 4
}
